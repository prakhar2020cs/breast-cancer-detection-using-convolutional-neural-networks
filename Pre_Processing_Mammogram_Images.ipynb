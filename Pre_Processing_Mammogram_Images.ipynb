{
 "cells": [
  {
   "cell_type": "code",
   "execution_count": 1,
   "metadata": {},
   "outputs": [],
   "source": [
    "import numpy as np\n",
    "import time\n",
    "import sys\n",
    "import os\n",
    "import random\n",
    "from skimage import io\n",
    "import pandas as pd\n",
    "from matplotlib import pyplot as plt\n",
    "from shutil import copyfile\n",
    "import cv2\n",
    "import tensorflow as tf\n",
    "import math  "
   ]
  },
  {
   "cell_type": "code",
   "execution_count": 2,
   "metadata": {},
   "outputs": [
    {
     "name": "stdout",
     "output_type": "stream",
     "text": [
      "['benign', 'malignant']\n"
     ]
    }
   ],
   "source": [
    "classes = ['benign', 'malignant']\n",
    "print(classes)"
   ]
  },
  {
   "cell_type": "code",
   "execution_count": 3,
   "metadata": {},
   "outputs": [
    {
     "name": "stdout",
     "output_type": "stream",
     "text": [
      "malignant\n",
      "2\n"
     ]
    }
   ],
   "source": [
    "print(classes[1])\n",
    "print(len(classes))"
   ]
  },
  {
   "cell_type": "code",
   "execution_count": 6,
   "metadata": {},
   "outputs": [
    {
     "name": "stdout",
     "output_type": "stream",
     "text": [
      "MG_data\\train\n"
     ]
    }
   ],
   "source": [
    "base_path ='MG_data'\n",
    "# Save images to train and test directory\n",
    "train_path = os.path.join(base_path, 'train')\n",
    "print(train_path)\n",
    "os.mkdir(train_path)\n",
    "test_path = os.path.join(base_path, 'test')\n",
    "os.mkdir(test_path)"
   ]
  },
  {
   "cell_type": "code",
   "execution_count": 7,
   "metadata": {},
   "outputs": [
    {
     "name": "stdout",
     "output_type": "stream",
     "text": [
      "Mass-Test_P_00016_LEFT_CC_0.png\n"
     ]
    }
   ],
   "source": [
    "all_imgs = os.listdir(os.path.join(base_path, 'All_MG_Images'))\n",
    "print(all_imgs[0])\n",
    "all_imgs = [f for f in all_imgs if not f.startswith('.')]\n",
    "random.seed(1)\n",
    "random.shuffle(all_imgs)\n",
    "train_imgs = all_imgs[:300]\n",
    "test_imgs = all_imgs[300:]\n",
    "print(train_imgs[0])\n",
    "print(test_imgs[0])"
   ]
  },
  {
   "cell_type": "code",
   "execution_count": 1,
   "metadata": {
    "collapsed": true
   },
   "outputs": [
    {
     "ename": "NameError",
     "evalue": "name 'train_imgs' is not defined",
     "output_type": "error",
     "traceback": [
      "\u001b[1;31m---------------------------------------------------------------------------\u001b[0m",
      "\u001b[1;31mNameError\u001b[0m                                 Traceback (most recent call last)",
      "\u001b[1;32m~\\AppData\\Local\\Temp\\ipykernel_5776\\894823740.py\u001b[0m in \u001b[0;36m<module>\u001b[1;34m\u001b[0m\n\u001b[0;32m      1\u001b[0m \u001b[1;31m# Copy each classes' images to train directory\u001b[0m\u001b[1;33m\u001b[0m\u001b[1;33m\u001b[0m\u001b[0m\n\u001b[1;32m----> 2\u001b[1;33m \u001b[1;32mfor\u001b[0m \u001b[0mj\u001b[0m \u001b[1;32min\u001b[0m \u001b[0mrange\u001b[0m\u001b[1;33m(\u001b[0m\u001b[0mlen\u001b[0m\u001b[1;33m(\u001b[0m\u001b[0mtrain_imgs\u001b[0m\u001b[1;33m)\u001b[0m\u001b[1;33m)\u001b[0m\u001b[1;33m:\u001b[0m\u001b[1;33m\u001b[0m\u001b[1;33m\u001b[0m\u001b[0m\n\u001b[0m\u001b[0;32m      3\u001b[0m     \u001b[0moriginal_path\u001b[0m \u001b[1;33m=\u001b[0m \u001b[0mos\u001b[0m\u001b[1;33m.\u001b[0m\u001b[0mpath\u001b[0m\u001b[1;33m.\u001b[0m\u001b[0mjoin\u001b[0m\u001b[1;33m(\u001b[0m\u001b[0mos\u001b[0m\u001b[1;33m.\u001b[0m\u001b[0mpath\u001b[0m\u001b[1;33m.\u001b[0m\u001b[0mjoin\u001b[0m\u001b[1;33m(\u001b[0m\u001b[0mbase_path\u001b[0m\u001b[1;33m,\u001b[0m \u001b[1;34m'All_images'\u001b[0m\u001b[1;33m)\u001b[0m\u001b[1;33m,\u001b[0m \u001b[0mtrain_imgs\u001b[0m\u001b[1;33m[\u001b[0m\u001b[0mj\u001b[0m\u001b[1;33m]\u001b[0m\u001b[1;33m)\u001b[0m\u001b[1;33m\u001b[0m\u001b[1;33m\u001b[0m\u001b[0m\n\u001b[0;32m      4\u001b[0m     \u001b[0mnew_path\u001b[0m \u001b[1;33m=\u001b[0m \u001b[0mos\u001b[0m\u001b[1;33m.\u001b[0m\u001b[0mpath\u001b[0m\u001b[1;33m.\u001b[0m\u001b[0mjoin\u001b[0m\u001b[1;33m(\u001b[0m\u001b[0mtrain_path\u001b[0m\u001b[1;33m,\u001b[0m \u001b[0mtrain_imgs\u001b[0m\u001b[1;33m[\u001b[0m\u001b[0mj\u001b[0m\u001b[1;33m]\u001b[0m\u001b[1;33m)\u001b[0m\u001b[1;33m\u001b[0m\u001b[1;33m\u001b[0m\u001b[0m\n\u001b[0;32m      5\u001b[0m     \u001b[0mcopyfile\u001b[0m\u001b[1;33m(\u001b[0m\u001b[0moriginal_path\u001b[0m\u001b[1;33m,\u001b[0m \u001b[0mnew_path\u001b[0m\u001b[1;33m)\u001b[0m\u001b[1;33m\u001b[0m\u001b[1;33m\u001b[0m\u001b[0m\n",
      "\u001b[1;31mNameError\u001b[0m: name 'train_imgs' is not defined"
     ]
    }
   ],
   "source": [
    "# Copy each classes' images to train directory\n",
    "for j in range(len(train_imgs)):\n",
    "    original_path = os.path.join(os.path.join(base_path, 'All_images'), train_imgs[j])\n",
    "    new_path = os.path.join(train_path, train_imgs[j])\n",
    "    copyfile(original_path, new_path)\n",
    "print(original_path)   \n",
    "# Copy each classes' images to test directory\n",
    "for j in range(len(test_imgs)):\n",
    "    original_path = os.path.join(os.path.join(base_path, 'All_images'), test_imgs[j])\n",
    "    new_path = os.path.join(test_path, test_imgs[j])\n",
    "    copyfile(original_path, new_path)\n",
    "print(new_path)"
   ]
  },
  {
   "cell_type": "code",
   "execution_count": 8,
   "metadata": {
    "scrolled": true
   },
   "outputs": [
    {
     "name": "stdout",
     "output_type": "stream",
     "text": [
      "number of training images:  1270\n",
      "number of test images:  318\n"
     ]
    }
   ],
   "source": [
    "# subtract one because there is one hidden file named '.DS_Store'\n",
    "print('number of training images: ', len(os.listdir(train_path))) \n",
    "print('number of test images: ', len(os.listdir(test_path)))"
   ]
  },
  {
   "cell_type": "markdown",
   "metadata": {},
   "source": [
    "# Converting annotation xml file to csv file"
   ]
  },
  {
   "cell_type": "code",
   "execution_count": 127,
   "metadata": {},
   "outputs": [
    {
     "name": "stdout",
     "output_type": "stream",
     "text": [
      "Populating the interactive namespace from numpy and matplotlib\n"
     ]
    },
    {
     "name": "stderr",
     "output_type": "stream",
     "text": [
      "C:\\Users\\simona\\Anaconda3\\lib\\site-packages\\IPython\\core\\magics\\pylab.py:160: UserWarning: pylab import has clobbered these variables: ['test', 'random']\n",
      "`%matplotlib` prevents importing * from pylab and numpy\n",
      "  \"\\n`%matplotlib` prevents importing * from pylab and numpy\"\n"
     ]
    }
   ],
   "source": [
    "# Converting annotation xml file to csv file\n",
    "%pylab inline\n",
    "import os, sys, random\n",
    "import xml.etree.ElementTree as ET\n",
    "from glob import glob\n",
    "import pandas as pd\n",
    "from shutil import copyfile"
   ]
  },
  {
   "cell_type": "code",
   "execution_count": 129,
   "metadata": {},
   "outputs": [
    {
     "name": "stdout",
     "output_type": "stream",
     "text": [
      "total_no_of_images= 1588\n",
      "total_no_of_objects in the  1588 images =  1683\n"
     ]
    }
   ],
   "source": [
    "# Conversion all data annotation xml files to data csv file\n",
    "annotations = glob('MG_data/All_Annotations/*.xml')\n",
    "df = []\n",
    "cnt = 0\n",
    "obj_cnt=0\n",
    "all_path = os.path.join(base_path, 'All_MG_Images')\n",
    "all_imgs=os.listdir(all_path)\n",
    "all_imgs = [f for f in all_imgs if not f.startswith('.')]\n",
    "for file in annotations:\n",
    "  fileName = os.path.join(all_path, all_imgs[cnt])\n",
    "  #fileName = file.replace('.xml','.png')\n",
    "  row = []\n",
    "  parsedXML = ET.parse(file)\n",
    "\n",
    "  for node in parsedXML.getroot().iter('object'):\n",
    "      className = node.find('name').text\n",
    "      xmin = int(node.find('bndbox/xmin').text)\n",
    "      xmax = int(node.find('bndbox/xmax').text)\n",
    "      ymin = int(node.find('bndbox/ymin').text)\n",
    "      ymax = int(node.find('bndbox/ymax').text)\n",
    "      row = [fileName, xmin, xmax, ymin, ymax,className]\n",
    "      df.append(row)\n",
    "      obj_cnt += 1\n",
    "    \n",
    "  cnt += 1\n",
    "print(\"total_no_of_images=\",cnt)\n",
    "print(\"total_no_of_objects in the \",cnt,\"images = \",obj_cnt)\n",
    "data = pd.DataFrame(df, columns=['fileName', 'xmin', 'xmax', 'ymin', 'ymax','className'])\n",
    "data[['fileName','xmin', 'xmax', 'ymin', 'ymax','className',]].to_csv('all_annotation.csv', index=False)"
   ]
  },
  {
   "cell_type": "code",
   "execution_count": 133,
   "metadata": {},
   "outputs": [
    {
     "name": "stdout",
     "output_type": "stream",
     "text": [
      "total_no_of_images= 1270\n",
      "total_no_of_objects in the  1270 images =  1339\n"
     ]
    }
   ],
   "source": [
    "# Conversion train annotation xml files to train csv file\n",
    "annotations = glob('MG_data/train_annotation/*.xml')\n",
    "df = []\n",
    "cnt = 0\n",
    "obj_cnt=0\n",
    "train_path = os.path.join(base_path, 'train')\n",
    "train_imgs=os.listdir(train_path)\n",
    "train_imgs = [f for f in train_imgs if not f.startswith('.')]\n",
    "for file in annotations:\n",
    "  fileName = os.path.join(train_path, train_imgs[cnt])\n",
    "  #fileName = file.replace('.xml','.png')\n",
    "  row = []\n",
    "  parsedXML = ET.parse(file)\n",
    "\n",
    "  for node in parsedXML.getroot().iter('object'):\n",
    "      className = node.find('name').text\n",
    "      xmin = int(node.find('bndbox/xmin').text)\n",
    "      xmax = int(node.find('bndbox/xmax').text)\n",
    "      ymin = int(node.find('bndbox/ymin').text)\n",
    "      ymax = int(node.find('bndbox/ymax').text)\n",
    "      row = [fileName, xmin, xmax, ymin, ymax,className]\n",
    "      df.append(row)\n",
    "      obj_cnt += 1\n",
    "    \n",
    "  cnt += 1\n",
    "print(\"total_no_of_images=\",cnt)\n",
    "print(\"total_no_of_objects in the \",cnt,\"images = \",obj_cnt)\n",
    "data = pd.DataFrame(df, columns=['fileName', 'xmin', 'xmax', 'ymin', 'ymax','className'])\n",
    "data[['fileName','xmin', 'xmax', 'ymin', 'ymax','className',]].to_csv('train_annotation.csv', index=False)"
   ]
  },
  {
   "cell_type": "code",
   "execution_count": 134,
   "metadata": {},
   "outputs": [
    {
     "name": "stdout",
     "output_type": "stream",
     "text": [
      "total_no_of_images= 318\n",
      "total_no_of_objects in the  318 images =  344\n"
     ]
    }
   ],
   "source": [
    "# Conversion test annotation xml files to test csv file\n",
    "annotations = glob('MG_data/test_annotation/*.xml')\n",
    "df = []\n",
    "cnt = 0\n",
    "obj_cnt=0\n",
    "test_path = os.path.join(base_path, 'test')\n",
    "test_imgs=os.listdir(test_path)\n",
    "test_imgs = [f for f in test_imgs if not f.startswith('.')]\n",
    "for file in annotations:\n",
    "  fileName = os.path.join(test_path, test_imgs[cnt])\n",
    "  #fileName = file.replace('.xml','.png')\n",
    "  row = []\n",
    "  parsedXML = ET.parse(file)\n",
    "\n",
    "  for node in parsedXML.getroot().iter('object'):\n",
    "      className = node.find('name').text\n",
    "      xmin = int(node.find('bndbox/xmin').text)\n",
    "      xmax = int(node.find('bndbox/xmax').text)\n",
    "      ymin = int(node.find('bndbox/ymin').text)\n",
    "      ymax = int(node.find('bndbox/ymax').text)\n",
    "      row = [fileName, xmin, xmax, ymin, ymax,className]\n",
    "      df.append(row)\n",
    "      obj_cnt += 1\n",
    "    \n",
    "  cnt += 1\n",
    "print(\"total_no_of_images=\",cnt)\n",
    "print(\"total_no_of_objects in the \",cnt,\"images = \",obj_cnt)\n",
    "data = pd.DataFrame(df, columns=['fileName', 'xmin', 'xmax', 'ymin', 'ymax','className'])\n",
    "data[['fileName','xmin', 'xmax', 'ymin', 'ymax','className',]].to_csv('test_annotation.csv', index=False)"
   ]
  },
  {
   "cell_type": "markdown",
   "metadata": {},
   "source": [
    "# Convert annotation file from CSV to text \n",
    "We need to convert the .csv format into a .txt file which will have the same format as \n",
    "filepath,x1,y1,x2,y2,class_name\n",
    "Make a new dataframe, fill all the values as per the format into that dataframe, \n",
    "and then save it as a .txt file."
   ]
  },
  {
   "cell_type": "code",
   "execution_count": 135,
   "metadata": {},
   "outputs": [],
   "source": [
    "import pandas as pd\n",
    "import matplotlib.pyplot as plt\n",
    "from matplotlib import patches\n",
    "%matplotlib inline"
   ]
  },
  {
   "cell_type": "code",
   "execution_count": 136,
   "metadata": {},
   "outputs": [],
   "source": [
    "# Conversion all annotation csv files to annotation txt file which is used in the faster rcnn model\n",
    "all_annotation= pd.read_csv('all_annotation.csv')\n",
    "data = pd.DataFrame()\n",
    "data['format'] = all_annotation['fileName']\n",
    "\n",
    "# add filename, xmin, ymin, xmax, ymax and class as per the format required\n",
    "for i in range(data.shape[0]):\n",
    "  data['format'][i] = data['format'][i] + ',' + str(all_annotation['xmin'][i]) + ',' + str(all_annotation['ymin'][i]) + ','+ str(all_annotation['xmax'][i]) + ',' + str(all_annotation['ymax'][i]) + ',' + all_annotation['className'][i]\n",
    "\n",
    "data.to_csv('all_annotation.txt', header=None, index=None, sep=' ')\n"
   ]
  },
  {
   "cell_type": "code",
   "execution_count": 137,
   "metadata": {},
   "outputs": [],
   "source": [
    "# Conversion train annotation csv files to train  txt file \n",
    "train_annotation= pd.read_csv('train_annotation.csv')\n",
    "data = pd.DataFrame()\n",
    "data['format'] = train_annotation['fileName']\n",
    "\n",
    "# add filename, xmin, ymin, xmax, ymax and class as per the format required\n",
    "for i in range(data.shape[0]):\n",
    "  data['format'][i] = data['format'][i] + ',' + str(train_annotation['xmin'][i]) + ',' + str(train_annotation['ymin'][i]) + ','+ str(train_annotation['xmax'][i]) + ',' + str(train_annotation['ymax'][i]) + ',' + train_annotation['className'][i]\n",
    "\n",
    "data.to_csv('train_annotation.txt', header=None, index=None, sep=' ')\n"
   ]
  },
  {
   "cell_type": "code",
   "execution_count": 138,
   "metadata": {},
   "outputs": [],
   "source": [
    "# Conversion test annotation csv files to test  txt file \n",
    "test_annotation= pd.read_csv('test_annotation.csv')\n",
    "data = pd.DataFrame()\n",
    "data['format'] = test_annotation['fileName']\n",
    "\n",
    "# add filename, xmin, ymin, xmax, ymax and class as per the format required\n",
    "for i in range(data.shape[0]):\n",
    "  data['format'][i] = data['format'][i] + ',' + str(test_annotation['xmin'][i]) + ',' + str(test_annotation['ymin'][i]) + ','+ str(test_annotation['xmax'][i]) + ',' + str(test_annotation['ymax'][i]) + ',' + test_annotation['className'][i]\n",
    "\n",
    "data.to_csv('test_annotation.txt', header=None, index=None, sep=' ')\n"
   ]
  },
  {
   "cell_type": "code",
   "execution_count": 139,
   "metadata": {},
   "outputs": [
    {
     "data": {
      "text/html": [
       "<div>\n",
       "<style scoped>\n",
       "    .dataframe tbody tr th:only-of-type {\n",
       "        vertical-align: middle;\n",
       "    }\n",
       "\n",
       "    .dataframe tbody tr th {\n",
       "        vertical-align: top;\n",
       "    }\n",
       "\n",
       "    .dataframe thead th {\n",
       "        text-align: right;\n",
       "    }\n",
       "</style>\n",
       "<table border=\"1\" class=\"dataframe\">\n",
       "  <thead>\n",
       "    <tr style=\"text-align: right;\">\n",
       "      <th></th>\n",
       "      <th>MG_data\\train\\MG_0000391_RIGHT_MLO_0.png</th>\n",
       "      <th>158</th>\n",
       "      <th>399</th>\n",
       "      <th>224</th>\n",
       "      <th>445</th>\n",
       "      <th>benign</th>\n",
       "    </tr>\n",
       "  </thead>\n",
       "  <tbody>\n",
       "    <tr>\n",
       "      <th>0</th>\n",
       "      <td>MG_data\\train\\MG_0000394_RIGHT_MLO_0.png</td>\n",
       "      <td>337</td>\n",
       "      <td>308</td>\n",
       "      <td>405</td>\n",
       "      <td>372</td>\n",
       "      <td>benign</td>\n",
       "    </tr>\n",
       "    <tr>\n",
       "      <th>1</th>\n",
       "      <td>MG_data\\train\\MG_0000396_LEFT_CC_0.png</td>\n",
       "      <td>504</td>\n",
       "      <td>605</td>\n",
       "      <td>540</td>\n",
       "      <td>629</td>\n",
       "      <td>malignant</td>\n",
       "    </tr>\n",
       "    <tr>\n",
       "      <th>2</th>\n",
       "      <td>MG_data\\train\\MG_0000396_LEFT_MLO_0.png</td>\n",
       "      <td>533</td>\n",
       "      <td>497</td>\n",
       "      <td>568</td>\n",
       "      <td>523</td>\n",
       "      <td>malignant</td>\n",
       "    </tr>\n",
       "    <tr>\n",
       "      <th>3</th>\n",
       "      <td>MG_data\\train\\MG_0000399_RIGHT_CC_0.png</td>\n",
       "      <td>372</td>\n",
       "      <td>424</td>\n",
       "      <td>416</td>\n",
       "      <td>468</td>\n",
       "      <td>malignant</td>\n",
       "    </tr>\n",
       "    <tr>\n",
       "      <th>4</th>\n",
       "      <td>MG_data\\train\\MG_0000399_RIGHT_MLO_0.png</td>\n",
       "      <td>366</td>\n",
       "      <td>585</td>\n",
       "      <td>415</td>\n",
       "      <td>633</td>\n",
       "      <td>malignant</td>\n",
       "    </tr>\n",
       "  </tbody>\n",
       "</table>\n",
       "</div>"
      ],
      "text/plain": [
       "   MG_data\\train\\MG_0000391_RIGHT_MLO_0.png  158  399  224  445     benign\n",
       "0  MG_data\\train\\MG_0000394_RIGHT_MLO_0.png  337  308  405  372     benign\n",
       "1    MG_data\\train\\MG_0000396_LEFT_CC_0.png  504  605  540  629  malignant\n",
       "2   MG_data\\train\\MG_0000396_LEFT_MLO_0.png  533  497  568  523  malignant\n",
       "3   MG_data\\train\\MG_0000399_RIGHT_CC_0.png  372  424  416  468  malignant\n",
       "4  MG_data\\train\\MG_0000399_RIGHT_MLO_0.png  366  585  415  633  malignant"
      ]
     },
     "execution_count": 139,
     "metadata": {},
     "output_type": "execute_result"
    }
   ],
   "source": [
    "train = pd.read_csv('train_annotation.txt')\n",
    "train.head()"
   ]
  },
  {
   "cell_type": "code",
   "execution_count": 140,
   "metadata": {},
   "outputs": [
    {
     "data": {
      "text/html": [
       "<div>\n",
       "<style scoped>\n",
       "    .dataframe tbody tr th:only-of-type {\n",
       "        vertical-align: middle;\n",
       "    }\n",
       "\n",
       "    .dataframe tbody tr th {\n",
       "        vertical-align: top;\n",
       "    }\n",
       "\n",
       "    .dataframe thead th {\n",
       "        text-align: right;\n",
       "    }\n",
       "</style>\n",
       "<table border=\"1\" class=\"dataframe\">\n",
       "  <thead>\n",
       "    <tr style=\"text-align: right;\">\n",
       "      <th></th>\n",
       "      <th>MG_data\\test\\MG_0000001_LEFT_CC_0.png</th>\n",
       "      <th>53</th>\n",
       "      <th>403</th>\n",
       "      <th>131</th>\n",
       "      <th>482</th>\n",
       "      <th>malignant</th>\n",
       "    </tr>\n",
       "  </thead>\n",
       "  <tbody>\n",
       "    <tr>\n",
       "      <th>0</th>\n",
       "      <td>MG_data\\test\\MG_0000001_LEFT_MLO_0.png</td>\n",
       "      <td>61</td>\n",
       "      <td>497</td>\n",
       "      <td>110</td>\n",
       "      <td>539</td>\n",
       "      <td>malignant</td>\n",
       "    </tr>\n",
       "    <tr>\n",
       "      <th>1</th>\n",
       "      <td>MG_data\\test\\MG_0000004_LEFT_CC_0.png</td>\n",
       "      <td>285</td>\n",
       "      <td>510</td>\n",
       "      <td>361</td>\n",
       "      <td>572</td>\n",
       "      <td>benign</td>\n",
       "    </tr>\n",
       "    <tr>\n",
       "      <th>2</th>\n",
       "      <td>MG_data\\test\\MG_0000004_LEFT_MLO_0.png</td>\n",
       "      <td>326</td>\n",
       "      <td>445</td>\n",
       "      <td>401</td>\n",
       "      <td>501</td>\n",
       "      <td>benign</td>\n",
       "    </tr>\n",
       "    <tr>\n",
       "      <th>3</th>\n",
       "      <td>MG_data\\test\\MG_0000004_RIGHT_MLO_0.png</td>\n",
       "      <td>143</td>\n",
       "      <td>554</td>\n",
       "      <td>231</td>\n",
       "      <td>607</td>\n",
       "      <td>benign</td>\n",
       "    </tr>\n",
       "    <tr>\n",
       "      <th>4</th>\n",
       "      <td>MG_data\\test\\MG_0000009_RIGHT_CC_0.png</td>\n",
       "      <td>132</td>\n",
       "      <td>392</td>\n",
       "      <td>186</td>\n",
       "      <td>425</td>\n",
       "      <td>malignant</td>\n",
       "    </tr>\n",
       "  </tbody>\n",
       "</table>\n",
       "</div>"
      ],
      "text/plain": [
       "     MG_data\\test\\MG_0000001_LEFT_CC_0.png   53  403  131  482  malignant\n",
       "0   MG_data\\test\\MG_0000001_LEFT_MLO_0.png   61  497  110  539  malignant\n",
       "1    MG_data\\test\\MG_0000004_LEFT_CC_0.png  285  510  361  572     benign\n",
       "2   MG_data\\test\\MG_0000004_LEFT_MLO_0.png  326  445  401  501     benign\n",
       "3  MG_data\\test\\MG_0000004_RIGHT_MLO_0.png  143  554  231  607     benign\n",
       "4   MG_data\\test\\MG_0000009_RIGHT_CC_0.png  132  392  186  425  malignant"
      ]
     },
     "execution_count": 140,
     "metadata": {},
     "output_type": "execute_result"
    }
   ],
   "source": [
    "test = pd.read_csv('test_annotation.txt')\n",
    "test.head()"
   ]
  },
  {
   "cell_type": "code",
   "execution_count": 143,
   "metadata": {},
   "outputs": [
    {
     "ename": "SyntaxError",
     "evalue": "invalid syntax (<ipython-input-143-e99b267d3537>, line 1)",
     "output_type": "error",
     "traceback": [
      "\u001b[1;36m  File \u001b[1;32m\"<ipython-input-143-e99b267d3537>\"\u001b[1;36m, line \u001b[1;32m1\u001b[0m\n\u001b[1;33m    python3 train_frcnn.py -o simple -p train_annotation.txt\u001b[0m\n\u001b[1;37m                      ^\u001b[0m\n\u001b[1;31mSyntaxError\u001b[0m\u001b[1;31m:\u001b[0m invalid syntax\n"
     ]
    }
   ],
   "source": [
    "python train_frcnn.py -o simple -p train_annotation.txt"
   ]
  },
  {
   "cell_type": "code",
   "execution_count": null,
   "metadata": {},
   "outputs": [],
   "source": [
    "python train_frcnn.py -o simple -p train_annotation.txt"
   ]
  },
  {
   "cell_type": "code",
   "execution_count": null,
   "metadata": {},
   "outputs": [],
   "source": []
  }
 ],
 "metadata": {
  "kernelspec": {
   "display_name": "Python 3 (ipykernel)",
   "language": "python",
   "name": "python3"
  },
  "language_info": {
   "codemirror_mode": {
    "name": "ipython",
    "version": 3
   },
   "file_extension": ".py",
   "mimetype": "text/x-python",
   "name": "python",
   "nbconvert_exporter": "python",
   "pygments_lexer": "ipython3",
   "version": "3.9.13"
  }
 },
 "nbformat": 4,
 "nbformat_minor": 2
}
