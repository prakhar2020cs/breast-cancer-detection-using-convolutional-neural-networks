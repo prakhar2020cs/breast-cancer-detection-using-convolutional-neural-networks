{
 "cells": [
  {
   "cell_type": "markdown",
   "id": "eec0f1d4",
   "metadata": {},
   "source": [
    "### Own Base line CNN Architecture for feature extraction"
   ]
  },
  {
   "cell_type": "code",
   "execution_count": null,
   "id": "95f37979",
   "metadata": {},
   "outputs": [],
   "source": [
    "#from google.colab import drive\n",
    "#drive.mount('/content/drive')"
   ]
  },
  {
   "cell_type": "code",
   "execution_count": null,
   "id": "7b4a7488",
   "metadata": {},
   "outputs": [],
   "source": [
    "#import os\n",
    "#os.chdir('/content/drive/My Drive/MSC_BCD_Model')  #change dir\n",
    "#!ls\n",
    "#!pwd"
   ]
  },
  {
   "cell_type": "markdown",
   "id": "e9e8fe40",
   "metadata": {},
   "source": [
    "#### Import requeried module  and library"
   ]
  },
  {
   "cell_type": "code",
   "execution_count": 13,
   "id": "97054ba8",
   "metadata": {},
   "outputs": [],
   "source": [
    "from __future__ import print_function\n",
    "from __future__ import absolute_import\n",
    "from __future__ import division\n",
    "\n",
    "import warnings\n",
    "\n",
    "from keras.models import Model\n",
    "from keras.layers import Flatten, Dense, Input, BatchNormalization, Conv2D, MaxPooling2D, Dropout\n",
    "from keras.layers import GlobalAveragePooling2D, GlobalMaxPooling2D, TimeDistributed\n",
    "from keras.engine.topology import get_source_inputs\n",
    "from keras.utils import layer_utils\n",
    "from keras.utils.data_utils import get_file\n",
    "from keras import backend as K\n",
    "from keras_frcnn.RoiPoolingConv import RoiPoolingConv"
   ]
  },
  {
   "cell_type": "code",
   "execution_count": 17,
   "id": "059cfb9b",
   "metadata": {},
   "outputs": [
    {
     "name": "stdout",
     "output_type": "stream",
     "text": [
      "False\n"
     ]
    }
   ],
   "source": [
    "epochs = 500\n",
    "INIT_LR = 1e-5\n",
    "Batch_size = 32\n",
    "directory_root = 'data'\n",
    "if K.image_data_format() == \"channels_last\":\n",
    "    bn_axis = 3\n",
    "else:\n",
    "    bn_axis = 1"
   ]
  },
  {
   "cell_type": "code",
   "execution_count": 5,
   "id": "1ba3a720",
   "metadata": {},
   "outputs": [],
   "source": [
    "def get_weight_path():\n",
    "    if K.image_data_format() == \"channels_first\":\n",
    "        print('pretrained weights not available for Own base network with theano backend')\n",
    "        return\n",
    "    else:\n",
    "        return 'Own_base_network_model.h5'\n",
    "\n",
    "def get_img_output_length(width, height):\n",
    "    def get_output_length(input_length):\n",
    "        return input_length//16\n",
    "\n",
    "    return get_output_length(width), get_output_length(height)  "
   ]
  },
  {
   "cell_type": "code",
   "execution_count": 6,
   "id": "20049f5a",
   "metadata": {},
   "outputs": [],
   "source": [
    "def nn_base(input_tensor=None, trainable=False):\n",
    "\n",
    "    # Determine proper input shape\n",
    "    if K.image_data_format() == \"channels_first\":\n",
    "        input_shape = (3, None, None)\n",
    "    else:\n",
    "        input_shape = (None, None, 3)\n",
    "\n",
    "    if input_tensor is None:\n",
    "        inputShape = Input(shape=input_shape)\n",
    "    else:\n",
    "        if not K.is_keras_tensor(input_tensor):\n",
    "            inputShape = Input(tensor=input_tensor, shape=input_shape)\n",
    "        else:\n",
    "            inputShape = input_tensor\n",
    "\n",
    "\n",
    "    # ConvLayer_Block 1\n",
    "    x= Conv2D(64,(3,3), activation='relu',padding='same', name='block_1_conv1')(inputShape)\n",
    "    x= BatchNormalization(axis=bn_axis,name='block_1_batchNormal')(x)\n",
    "    x= MaxPooling2D((2, 2), strides=(2, 2), name='block_1_pool')(x)\n",
    "    x= Dropout(0.25,name='block_1_dropout')(x)\n",
    "    # ConvLayer_Block 2\n",
    "    x= Conv2D(128,(3,3), activation='relu',padding='same', name='block_2_conv1')(x)\n",
    "    x= BatchNormalization(axis=bn_axis,name='block_2_batchNormal')(x)\n",
    "    # ConvLayer_Block 3\n",
    "    x= Conv2D(256,(3,3), activation='relu',padding='same', name='block_3_conv1')(x)\n",
    "    x= BatchNormalization(axis=bn_axis,name='block_3_batchNormal')(x)\n",
    "    x= MaxPooling2D((2, 2), strides=(2, 2), name='block_3_pool')(x)\n",
    "    x= Dropout(0.25,name='block_3_dropout')(x)\n",
    "    # ConvLayer_Block 4\n",
    "    x= Conv2D(512,(3,3), activation='relu',padding='same', name='block_4_conv1')(x)\n",
    "    x= BatchNormalization(axis=bn_axis,name='block_4_batchNormal')(x)\n",
    "    x= MaxPooling2D((2, 2), strides=(2, 2), name='block_4_pool')(x)\n",
    "    x= Dropout(0.25,name='block_4_dropout')(x)\n",
    "    # ConvLayer_Block 5\n",
    "    x= Conv2D(512,(3,3), activation='relu',padding='same', name='block_5_conv1')(x)\n",
    "    x= BatchNormalization(axis=bn_axis,name='block_5_batchNormal')(x)\n",
    "    x= MaxPooling2D((2, 2), strides=(2, 2), name='block_5_pool')(x)\n",
    "    x= Dropout(0.25,name='block_5_dropout')(x)\n",
    "\n",
    "    return x"
   ]
  },
  {
   "cell_type": "code",
   "execution_count": 8,
   "id": "779df143",
   "metadata": {},
   "outputs": [],
   "source": [
    "def rpn(base_layers, num_anchors):\n",
    "\n",
    "    x = Conv2D(512, (3, 3), padding='same', activation='relu', kernel_initializer='normal', name='rpn_conv1')(base_layers)\n",
    "    x= BatchNormalization(axis=bn_axis,name='RPN_batchNormal')(x)\n",
    "    x_class = Conv2D(num_anchors, (1, 1), activation='sigmoid', kernel_initializer='uniform', name='rpn_out_class')(x)\n",
    "    x_regr = Conv2D(num_anchors * 4, (1, 1), activation='linear', kernel_initializer='zero', name='rpn_out_regress')(x)\n",
    "\n",
    "    return [x_class, x_regr, base_layers]"
   ]
  },
  {
   "cell_type": "code",
   "execution_count": null,
   "id": "c25bc21b",
   "metadata": {},
   "outputs": [],
   "source": [
    "def classifier(base_layers, input_rois, num_rois, nb_classes, trainable=False):\n",
    "\n",
    "    # compile times on theano tend to be very high, so we use smaller ROI pooling regions to workaround\n",
    "\n",
    "    if K.backend() == 'tensorflow':\n",
    "        pooling_regions = 5\n",
    "        input_shape = (num_rois,5,5,512)\n",
    "    elif K.backend() == 'theano':\n",
    "        pooling_regions = 5\n",
    "        input_shape = (num_rois,512,5,5)\n",
    "\n",
    "    out_roi_pool = RoiPoolingConv(pooling_regions, num_rois)([base_layers, input_rois])\n",
    "\n",
    "    out = TimeDistributed(Flatten(name='flatten'))(out_roi_pool)\n",
    "    out = TimeDistributed(Dense(1024, activation='relu', name='dense_layer_1'))(out)\n",
    "    out = TimeDistributed(BatchNormalization(axis=bn_axis,name='batchNormal_1'))(out)\n",
    "    out = TimeDistributed(Dropout(0.25))(out)\n",
    "    out = TimeDistributed(Dense(1024, activation='relu', name='dense_layer_2'))(out)\n",
    "    out = TimeDistributed(BatchNormalization(axis=bn_axis,name='batchNormal_2'))(out)\n",
    "    out = TimeDistributed(Dropout(0.5))(out)\n",
    "\n",
    "    out_class = TimeDistributed(Dense(nb_classes, activation='softmax', kernel_initializer='zero'), name='dense_class_{}'.format(nb_classes))(out)\n",
    "    # note: no regression target for bg class\n",
    "    out_regr = TimeDistributed(Dense(4 * (nb_classes-1), activation='linear', kernel_initializer='zero'), name='dense_regress_{}'.format(nb_classes))(out)\n",
    "\n",
    "    return [out_class, out_regr]\n"
   ]
  }
 ],
 "metadata": {
  "kernelspec": {
   "display_name": "Python 3 (ipykernel)",
   "language": "python",
   "name": "python3"
  },
  "language_info": {
   "codemirror_mode": {
    "name": "ipython",
    "version": 3
   },
   "file_extension": ".py",
   "mimetype": "text/x-python",
   "name": "python",
   "nbconvert_exporter": "python",
   "pygments_lexer": "ipython3",
   "version": "3.9.13"
  }
 },
 "nbformat": 4,
 "nbformat_minor": 5
}
